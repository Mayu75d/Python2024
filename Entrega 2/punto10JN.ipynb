{
 "cells": [
  {
   "cell_type": "markdown",
   "metadata": {},
   "source": [
    "EMANUEL SALMERON\n",
    "\n",
    "LEGAJO: 21219/6\n"
   ]
  },
  {
   "cell_type": "markdown",
   "metadata": {},
   "source": [
    "Variables:"
   ]
  },
  {
   "cell_type": "code",
   "execution_count": 1,
   "metadata": {},
   "outputs": [],
   "source": [
    "names = \"\"\" Agustin, Yanina, Andrés, Ariadna, Bautista, CAROLINA, \n",
    "CESAR, David, Diego, Dolores, DYLAN, ELIANA, Emanuel, Fabián, Noelia, \n",
    "Francsica', FEDERICO, Fernanda, GONZALO, Nancy \"\"\"\n",
    "goals = [0, 10, 4, 0, 5, 14, 0, 0, 7, 2, 1, 1, 1, 5, 6, 1, 1, 2, 0, \n",
    "11]\n",
    "goals_avoided = [0, 2, 0, 0, 5, 2, 0, 0, 1, 2, 0, 5, 5, 0, 1, 0, 2, \n",
    "3, 0, 0]\n",
    "assists = [0, 5, 1, 0, 5, 2, 0, 0, 1, 2, 1, 5, 5, 0, 1, 0, 2, 3, 1, \n",
    "0]"
   ]
  },
  {
   "cell_type": "markdown",
   "metadata": {},
   "source": [
    "Importacion de funciones"
   ]
  },
  {
   "cell_type": "code",
   "execution_count": 2,
   "metadata": {},
   "outputs": [],
   "source": [
    "import funciones"
   ]
  },
  {
   "cell_type": "markdown",
   "metadata": {},
   "source": [
    "Inciso A:"
   ]
  },
  {
   "cell_type": "code",
   "execution_count": 3,
   "metadata": {},
   "outputs": [
    {
     "name": "stdout",
     "output_type": "stream",
     "text": [
      "Jugadores(goles,goles evitados,asistencias):  {' Agustin': (0, 0, 0), ' Yanina': (10, 2, 5), ' Andrés': (4, 0, 1), ' Ariadna': (0, 0, 0), ' Bautista': (5, 5, 5), ' CAROLINA': (14, 2, 2), ' \\nCESAR': (0, 0, 0), ' David': (0, 0, 0), ' Diego': (7, 1, 1), ' Dolores': (2, 2, 2), ' DYLAN': (1, 0, 1), ' ELIANA': (1, 5, 5), ' Emanuel': (1, 5, 5), ' Fabián': (5, 0, 0), ' Noelia': (6, 1, 1), \" \\nFrancsica'\": (1, 0, 0), ' FEDERICO': (1, 2, 2), ' Fernanda': (2, 3, 3), ' GONZALO': (0, 0, 1), ' Nancy ': (11, 0, 0)}\n"
     ]
    }
   ],
   "source": [
    "players = funciones.stats_per_players(names, goals, goals_avoided, assists)\n",
    "print('Jugadores(goles,goles evitados,asistencias): ',players)"
   ]
  },
  {
   "cell_type": "markdown",
   "metadata": {},
   "source": [
    "Inciso B:"
   ]
  },
  {
   "cell_type": "code",
   "execution_count": 4,
   "metadata": {},
   "outputs": [
    {
     "name": "stdout",
     "output_type": "stream",
     "text": [
      "Goleador:  (' CAROLINA', 14)\n"
     ]
    }
   ],
   "source": [
    "print('Goleador: ', funciones.find_top_scorer(players))"
   ]
  },
  {
   "cell_type": "markdown",
   "metadata": {},
   "source": [
    "Inciso C:"
   ]
  },
  {
   "cell_type": "code",
   "execution_count": 5,
   "metadata": {},
   "outputs": [
    {
     "name": "stdout",
     "output_type": "stream",
     "text": [
      "Jugador mas influyente:   CAROLINA\n"
     ]
    }
   ],
   "source": [
    "print('Jugador mas influyente: ', funciones.most_influential_player(players))"
   ]
  },
  {
   "cell_type": "markdown",
   "metadata": {},
   "source": [
    "Inciso D:"
   ]
  },
  {
   "cell_type": "code",
   "execution_count": 6,
   "metadata": {},
   "outputs": [
    {
     "name": "stdout",
     "output_type": "stream",
     "text": [
      "Promedio de goles del equipo:  2.84\n"
     ]
    }
   ],
   "source": [
    "print('Promedio de goles del equipo: ', funciones.team_average(goals))"
   ]
  },
  {
   "cell_type": "markdown",
   "metadata": {},
   "source": [
    "Inciso E:"
   ]
  },
  {
   "cell_type": "code",
   "execution_count": 7,
   "metadata": {},
   "outputs": [
    {
     "name": "stdout",
     "output_type": "stream",
     "text": [
      "Promedio de goles del goleador:  0.56\n"
     ]
    }
   ],
   "source": [
    "print('Promedio de goles del goleador: ', funciones.top_scorer_average(players))"
   ]
  }
 ],
 "metadata": {
  "kernelspec": {
   "display_name": "Python 3",
   "language": "python",
   "name": "python3"
  },
  "language_info": {
   "codemirror_mode": {
    "name": "ipython",
    "version": 3
   },
   "file_extension": ".py",
   "mimetype": "text/x-python",
   "name": "python",
   "nbconvert_exporter": "python",
   "pygments_lexer": "ipython3",
   "version": "3.11.2"
  }
 },
 "nbformat": 4,
 "nbformat_minor": 2
}
